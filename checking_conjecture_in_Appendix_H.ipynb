{
  "nbformat": 4,
  "nbformat_minor": 0,
  "metadata": {
    "colab": {
      "provenance": []
    },
    "kernelspec": {
      "name": "python3",
      "display_name": "Python 3"
    },
    "language_info": {
      "name": "python"
    }
  },
  "cells": [
    {
      "cell_type": "markdown",
      "source": [
        "We use the matrix label code based parametriztion.\n",
        "\n",
        "\n",
        "See [https://jmlr.org/papers/v25/23-1599.html](https://jmlr.org/papers/v25/23-1599.html)\n",
        "\n",
        "and\n",
        "\n",
        "[https://proceedings.mlr.press/v139/wang21u.html](https://proceedings.mlr.press/v139/wang21u.html)\n",
        "\n",
        "The solver for hard-margin SVM is hosted at [https://github.com/YutongWangML/msvmpy](https://github.com/YutongWangML/msvmpy)\n",
        "\n",
        "It requires `cvxopt`"
      ],
      "metadata": {
        "id": "HNSQMdm9Ni0K"
      }
    },
    {
      "cell_type": "code",
      "execution_count": 1,
      "metadata": {
        "colab": {
          "base_uri": "https://localhost:8080/"
        },
        "id": "rTqNHaboLT2e",
        "outputId": "b8e89258-1ec5-4fe1-83cd-10995aeffe5d"
      },
      "outputs": [
        {
          "output_type": "stream",
          "name": "stdout",
          "text": [
            "Collecting git+https://github.com/YutongWangUMich/msvmpy.git\n",
            "  Cloning https://github.com/YutongWangUMich/msvmpy.git to /tmp/pip-req-build-ow4wyr0j\n",
            "  Running command git clone --filter=blob:none --quiet https://github.com/YutongWangUMich/msvmpy.git /tmp/pip-req-build-ow4wyr0j\n",
            "  Resolved https://github.com/YutongWangUMich/msvmpy.git to commit ab11ca44fef75bbf770c1b9090a60b324e7077fc\n",
            "  Preparing metadata (setup.py) ... \u001b[?25l\u001b[?25hdone\n",
            "Requirement already satisfied: cvxopt in /usr/local/lib/python3.10/dist-packages (from msvmpy==0.1.0) (1.3.2)\n",
            "Requirement already satisfied: numpy in /usr/local/lib/python3.10/dist-packages (from msvmpy==0.1.0) (1.26.4)\n"
          ]
        }
      ],
      "source": [
        "!pip install git+https://github.com/YutongWangUMich/msvmpy.git"
      ]
    },
    {
      "cell_type": "code",
      "source": [
        "import numpy as np\n",
        "import matplotlib.pyplot as plt\n",
        "import msvmpy.hard_margin as hard_margin"
      ],
      "metadata": {
        "id": "Y6KFCdF0LXTJ"
      },
      "execution_count": 2,
      "outputs": []
    },
    {
      "cell_type": "code",
      "source": [
        "def make_dataset(num_samples, num_classes, num_features, random_seed = None):\n",
        "    if random_seed is not None:\n",
        "        np.random.seed(random_seed)\n",
        "    X = np.random.randn(num_samples,num_features)\n",
        "    Wstar = np.random.randn(num_features,num_classes)      # ground truth classifier\n",
        "    y = np.argmax(X@Wstar,axis=1)     # labels\n",
        "    return X, y"
      ],
      "metadata": {
        "id": "i1hgKuamLZDn"
      },
      "execution_count": 3,
      "outputs": []
    },
    {
      "cell_type": "code",
      "source": [
        "def make_matrix_label_code(num_classes):\n",
        "    ncm1 = num_classes - 1\n",
        "    mlc = [np.eye(ncm1) for j in range(num_classes)]\n",
        "    for j in range(ncm1):\n",
        "        mlc[j][:,j] = -1\n",
        "    return mlc"
      ],
      "metadata": {
        "id": "PDV-WapULaMt"
      },
      "execution_count": 4,
      "outputs": []
    },
    {
      "cell_type": "code",
      "source": [
        "rng_seed = 6\n",
        "\n",
        "def check_conjecture(num_samples, num_classes, num_features, num_trials = 100):\n",
        "    \"\"\"\n",
        "    Construct num_trials many randomly generated datasets.\n",
        "    \"\"\"\n",
        "    rng_seed = 0\n",
        "    mlc = make_matrix_label_code(num_classes)\n",
        "    while rng_seed < num_trials:\n",
        "        X,y = make_dataset(num_samples,num_classes,num_features, random_seed = rng_seed)\n",
        "\n",
        "        all_classes_appear =  len(np.unique(y)) == num_classes\n",
        "        Wrmarg,dual_vars = hard_margin.FnormA_du_rmarg(X,y,num_classes)\n",
        "        dual_vars = np.abs(dual_vars)\n",
        "\n",
        "        dv = dual_vars.flatten()\n",
        "        dv_sorted = -np.sort(-dv)\n",
        "        ratios = dv_sorted[:-1]/dv_sorted[1:]\n",
        "\n",
        "        # see \"Explanation of num_SVs\" section for the explanation of the calculation of the number of support vectors\n",
        "        num_SVs = np.argmax(np.floor(np.log10(np.round(ratios,0).astype(int))).astype(int) > 0) + 1\n",
        "        threshold = (dv_sorted[num_SVs-1]-dv_sorted[num_SVs])/2\n",
        "\n",
        "        arr = dual_vars> threshold\n",
        "        result = np.where(arr)\n",
        "\n",
        "        indices_list = list(zip(result[0], result[1]))\n",
        "        m_kron_x_list = [np.kron((mlc[y[i]].T)[:,j], X[i,:]) for i,j in indices_list]\n",
        "\n",
        "        G = np.vstack(m_kron_x_list).T # The G matrix defined in Appendix H in the matrix label code paramatrization\n",
        "\n",
        "        assert(G.shape  == ( num_features * (num_classes-1), num_SVs))\n",
        "\n",
        "        assert(np.linalg.matrix_rank(G) == num_SVs)\n",
        "        rng_seed += 1\n",
        "\n",
        "    print(\"No counter-example found\")\n",
        "    return None\n",
        "\n",
        "num_samples = 100\n",
        "num_classes = 3\n",
        "num_features = 2\n",
        "num_trials = 100"
      ],
      "metadata": {
        "id": "F8z27AXsLiPr"
      },
      "execution_count": 61,
      "outputs": []
    },
    {
      "cell_type": "code",
      "source": [
        "for num_classes in [3,4,5,6]:\n",
        "    for num_features in [2,3,4,5,6]:\n",
        "        print(f\"num_classes: {num_classes}, num_features: {num_features}\")\n",
        "        check_conjecture(num_samples = 20*num_classes, num_classes = num_classes, num_features = num_features, num_trials = 100)"
      ],
      "metadata": {
        "colab": {
          "base_uri": "https://localhost:8080/"
        },
        "id": "xwGxw790Lwdu",
        "outputId": "e3c6128d-ee67-47ea-f477-4421c50b69db"
      },
      "execution_count": 62,
      "outputs": [
        {
          "output_type": "stream",
          "name": "stdout",
          "text": [
            "num_classes: 3, num_features: 2\n",
            "No counter-example found\n",
            "num_classes: 3, num_features: 3\n",
            "No counter-example found\n",
            "num_classes: 3, num_features: 4\n",
            "No counter-example found\n",
            "num_classes: 3, num_features: 5\n",
            "No counter-example found\n",
            "num_classes: 3, num_features: 6\n",
            "No counter-example found\n",
            "num_classes: 4, num_features: 2\n",
            "No counter-example found\n",
            "num_classes: 4, num_features: 3\n",
            "No counter-example found\n",
            "num_classes: 4, num_features: 4\n",
            "No counter-example found\n",
            "num_classes: 4, num_features: 5\n",
            "No counter-example found\n",
            "num_classes: 4, num_features: 6\n",
            "No counter-example found\n",
            "num_classes: 5, num_features: 2\n",
            "No counter-example found\n",
            "num_classes: 5, num_features: 3\n",
            "No counter-example found\n",
            "num_classes: 5, num_features: 4\n",
            "No counter-example found\n",
            "num_classes: 5, num_features: 5\n",
            "No counter-example found\n",
            "num_classes: 5, num_features: 6\n",
            "No counter-example found\n",
            "num_classes: 6, num_features: 2\n",
            "No counter-example found\n",
            "num_classes: 6, num_features: 3\n",
            "No counter-example found\n",
            "num_classes: 6, num_features: 4\n",
            "No counter-example found\n",
            "num_classes: 6, num_features: 5\n",
            "No counter-example found\n",
            "num_classes: 6, num_features: 6\n",
            "No counter-example found\n"
          ]
        }
      ]
    },
    {
      "cell_type": "markdown",
      "source": [
        "# Explanation for `num_SVs`\n",
        "\n",
        "First, we calculate the dual variables (flattened) in descending order"
      ],
      "metadata": {
        "id": "Mrqr7BqxXbY9"
      }
    },
    {
      "cell_type": "code",
      "source": [
        "rng_seed = 0\n",
        "num_classes = 4\n",
        "num_features = 4\n",
        "num_samples = 20*num_classes\n",
        "mlc = make_matrix_label_code(num_classes)\n",
        "X,y = make_dataset(num_samples,num_classes,num_features, random_seed = rng_seed)\n",
        "\n",
        "all_classes_appear =  len(np.unique(y)) == num_classes\n",
        "Wrmarg,dual_vars = hard_margin.FnormA_du_rmarg(X,y,num_classes)\n",
        "dual_vars = np.abs(dual_vars)\n",
        "\n",
        "dv = dual_vars.flatten()\n",
        "dv_sorted = -np.sort(-dv)"
      ],
      "metadata": {
        "id": "qAhX1KEgPqIW"
      },
      "execution_count": 63,
      "outputs": []
    },
    {
      "cell_type": "markdown",
      "source": [
        "Now, let us plot them with logarithmic y-scale."
      ],
      "metadata": {
        "id": "fky8ZuLvXzgg"
      }
    },
    {
      "cell_type": "code",
      "source": [
        "plt.stem(dv_sorted[:30])\n",
        "plt.yscale('log')"
      ],
      "metadata": {
        "colab": {
          "base_uri": "https://localhost:8080/",
          "height": 430
        },
        "id": "g89Fv2XNXKfv",
        "outputId": "053fe0cd-4fec-4381-e7e3-84c03e4288ee"
      },
      "execution_count": 66,
      "outputs": [
        {
          "output_type": "display_data",
          "data": {
            "text/plain": [
              "<Figure size 640x480 with 1 Axes>"
            ],
            "image/png": "[encoded data removed]"
          },
          "metadata": {}
        }
      ]
    },
    {
      "cell_type": "markdown",
      "source": [
        "Note that there is a large drop off between index 11 and 12."
      ],
      "metadata": {
        "id": "TyO1IJQ-X5p8"
      }
    },
    {
      "cell_type": "code",
      "source": [
        "ratios = dv_sorted[:-1]/dv_sorted[1:]\n",
        "\n",
        "plt.stem(np.round(ratios[:30],0).astype(int))\n",
        "plt.axhline(10, c=\"k\", linestyle=\":\")\n",
        "plt.yscale('log')"
      ],
      "metadata": {
        "colab": {
          "base_uri": "https://localhost:8080/",
          "height": 430
        },
        "id": "faS_su_0P5eX",
        "outputId": "f4153d53-c4b6-4d49-d08b-31af115d0f44"
      },
      "execution_count": 77,
      "outputs": [
        {
          "output_type": "display_data",
          "data": {
            "text/plain": [
              "<Figure size 640x480 with 1 Axes>"
            ],
            "image/png": "[encoded data removed]"
          },
          "metadata": {}
        }
      ]
    },
    {
      "cell_type": "markdown",
      "source": [
        "We set `num_SVs` to be the first index plus one where this dropoff is at least one order of magnitude. The \"plus one\" is because Python's zero-indexing."
      ],
      "metadata": {
        "id": "xnMKrF08YMRV"
      }
    },
    {
      "cell_type": "code",
      "source": [
        "num_SVs = np.argmax(np.floor(np.log10(np.round(ratios,0).astype(int))).astype(int) > 0) + 1\n",
        "num_SVs"
      ],
      "metadata": {
        "colab": {
          "base_uri": "https://localhost:8080/"
        },
        "id": "7uIo8vjcRygM",
        "outputId": "1d2dd89a-982e-42f6-d829-9cbc2c1d3b02"
      },
      "execution_count": 78,
      "outputs": [
        {
          "output_type": "execute_result",
          "data": {
            "text/plain": [
              "12"
            ]
          },
          "metadata": {},
          "execution_count": 78
        }
      ]
    }
  ]
}