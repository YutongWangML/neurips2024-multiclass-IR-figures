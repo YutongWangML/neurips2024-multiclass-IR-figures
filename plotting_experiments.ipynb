{
 "cells": [
  {
   "cell_type": "code",
   "execution_count": null,
   "id": "303244c5",
   "metadata": {},
   "outputs": [
    {
     "name": "stdout",
     "output_type": "stream",
     "text": [
      "Metal device set to: Apple M1\n"
     ]
    }
   ],
   "source": [
    "import pickle\n",
    "import numpy as np\n",
    "import matplotlib.pyplot as plt\n",
    "with open('results_list.pkl', 'rb') as file:\n",
    "    results_list = pickle.load(file)\n"
   ]
  },
  {
   "cell_type": "code",
   "execution_count": null,
   "id": "3c4fd4e0",
   "metadata": {},
   "outputs": [],
   "source": [
    "epochs = np.arange(0, len(results['loss_list']) * record_every_n_epochs, record_every_n_epochs)+1\n",
    "\n",
    "plt.figure(figsize=(12, 6))\n",
    "for i, results in enumerate(results_list):\n",
    "    # epochs = range(0, len(results['loss_list']) * 100, 100)\n",
    "    plt.loglog(epochs, results['frobenius_diff_list'], label=f'Run {i + 1}', color='k', linestyle=':')\n",
    "plt.xlabel('Epochs')\n",
    "plt.ylabel('Frobenius Difference')\n",
    "plt.title('Frobenius Difference Over Epochs for 10 Runs')\n",
    "# plt.legend()\n",
    "plt.grid(True)\n",
    "plt.show()"
   ]
  },
  {
   "cell_type": "code",
   "execution_count": null,
   "id": "2f6a2ef2",
   "metadata": {},
   "outputs": [],
   "source": []
  }
 ],
 "metadata": {
  "kernelspec": {
   "display_name": "Python 3 (ipykernel)",
   "language": "python",
   "name": "python3"
  },
  "language_info": {
   "codemirror_mode": {
    "name": "ipython",
    "version": 3
   },
   "file_extension": ".py",
   "mimetype": "text/x-python",
   "name": "python",
   "nbconvert_exporter": "python",
   "pygments_lexer": "ipython3",
   "version": "3.10.10"
  }
 },
 "nbformat": 4,
 "nbformat_minor": 5
}
